{
 "cells": [
  {
   "cell_type": "markdown",
   "id": "6025afd5-0ce1-4fff-98fd-5e6420ec47da",
   "metadata": {},
   "source": [
    "# Higgs using Dask and coffea"
   ]
  },
  {
   "cell_type": "code",
   "execution_count": 3,
   "id": "aab9c713-158a-455b-9188-37aa9790fdf4",
   "metadata": {},
   "outputs": [
    {
     "name": "stdout",
     "output_type": "stream",
     "text": [
      "higgs\n"
     ]
    }
   ],
   "source": [
    "print(\"higgs\")"
   ]
  },
  {
   "cell_type": "code",
   "execution_count": 17,
   "id": "e8d2d038-a92f-4dcc-92a8-7237a2c6f7c4",
   "metadata": {},
   "outputs": [
    {
     "name": "stdout",
     "output_type": "stream",
     "text": [
      "/home/cms-jovyan/H-to-WW-NanoAOD-analysis/notebooks\n",
      "/home/cms-jovyan/H-to-WW-NanoAOD-analysis/Text_files\n"
     ]
    }
   ],
   "source": [
    "import os \n",
    "\n",
    "print(os.getcwd())\n",
    "os.chdir(\"/home/cms-jovyan/H-to-WW-NanoAOD-analysis/Text_files\")\n",
    "print(os.getcwd())"
   ]
  },
  {
   "cell_type": "code",
   "execution_count": 27,
   "id": "8b2fe1ee-51a8-4be1-b9ac-5ebcc48a38e1",
   "metadata": {},
   "outputs": [],
   "source": [
    "file_path = \"Higgs_combined.txt\""
   ]
  },
  {
   "cell_type": "code",
   "execution_count": 28,
   "id": "f3045949-dd74-412a-b240-0049cb4c5c91",
   "metadata": {},
   "outputs": [],
   "source": [
    "import uproot\n",
    "import awkward as ak\n",
    "import dask\n",
    "from dask import delayed\n",
    "import dask.array as da\n",
    "from hist import Hist\n",
    "import matplotlib.pyplot as plt\n",
    "import numpy as np\n",
    "\n"
   ]
  },
  {
   "cell_type": "markdown",
   "id": "778f4be8-e915-44bd-b070-e0aeb0cf5389",
   "metadata": {},
   "source": []
  },
  {
   "cell_type": "code",
   "execution_count": 29,
   "id": "01cf5ecc-0cdf-4cd0-8281-7367c0092f6e",
   "metadata": {},
   "outputs": [],
   "source": [
    "# ------------------------------\n",
    "# Function to read ROOT file\n",
    "# ------------------------------\n",
    "def read_root_file(file_path, tree_name=\"Events\", branches=None):\n",
    "    with uproot.open(file_path) as f:\n",
    "        tree = f[tree_name]\n",
    "        data = tree.arrays(branches=branches, library=\"ak\")\n",
    "        # Flatten jagged arrays if needed\n",
    "        return ak.flatten(data[branches[0]])\n"
   ]
  },
  {
   "cell_type": "code",
   "execution_count": 30,
   "id": "87617155-1ed5-45bf-b95a-422cf994679a",
   "metadata": {},
   "outputs": [],
   "source": [
    "\n",
    "# ------------------------------\n",
    "# Function to create Dask arrays\n",
    "# ------------------------------\n",
    "def root_files_to_dask_array(txt_file, tree_name=\"Events\", branch=\"Electron_eta\"):\n",
    "    with open(txt_file, \"r\") as f:\n",
    "        root_files = [line.strip() for line in f if line.strip()]\n",
    "    \n",
    "    # Create delayed tasks\n",
    "    delayed_arrays = []\n",
    "    for f in root_files:\n",
    "        delayed_arr = delayed(read_root_file)(f, tree_name=tree_name, branches=[branch])\n",
    "        # Convert to numpy within the delayed task\n",
    "        delayed_np = delayed(ak.to_numpy)(delayed_arr)\n",
    "        delayed_arrays.append(delayed_np)\n",
    "    \n",
    "    # Create dask arrays from delayed objects\n",
    "    dask_arrays = [da.from_delayed(arr, shape=(np.nan,), dtype=np.float64) for arr in delayed_arrays]\n",
    "    \n",
    "    # Concatenate\n",
    "    return da.concatenate(dask_arrays)\n"
   ]
  },
  {
   "cell_type": "code",
   "execution_count": 31,
   "id": "91041dc2-ed05-44e4-9e24-8c438a9018d8",
   "metadata": {},
   "outputs": [
    {
     "ename": "TypeError",
     "evalue": "HasBranches.arrays() got an unexpected keyword argument 'branches'",
     "output_type": "error",
     "traceback": [
      "\u001b[0;31m---------------------------------------------------------------------------\u001b[0m",
      "\u001b[0;31mTypeError\u001b[0m                                 Traceback (most recent call last)",
      "Cell \u001b[0;32mIn[31], line 13\u001b[0m\n\u001b[1;32m     11\u001b[0m \u001b[38;5;66;03m# Compute histogram using hist\u001b[39;00m\n\u001b[1;32m     12\u001b[0m hist_obj \u001b[38;5;241m=\u001b[39m Hist\u001b[38;5;241m.\u001b[39mnew\u001b[38;5;241m.\u001b[39mReg(\u001b[38;5;241m50\u001b[39m, \u001b[38;5;241m-\u001b[39m\u001b[38;5;241m5\u001b[39m, \u001b[38;5;241m5\u001b[39m, name\u001b[38;5;241m=\u001b[39m\u001b[38;5;124m\"\u001b[39m\u001b[38;5;124mElectron_eta\u001b[39m\u001b[38;5;124m\"\u001b[39m, label\u001b[38;5;241m=\u001b[39m\u001b[38;5;124m\"\u001b[39m\u001b[38;5;124mElectron eta\u001b[39m\u001b[38;5;124m\"\u001b[39m)\u001b[38;5;241m.\u001b[39mDouble()\n\u001b[0;32m---> 13\u001b[0m hist_obj\u001b[38;5;241m.\u001b[39mfill(\u001b[43melectron_eta_da\u001b[49m\u001b[38;5;241;43m.\u001b[39;49m\u001b[43mcompute\u001b[49m\u001b[43m(\u001b[49m\u001b[43m)\u001b[49m)\n\u001b[1;32m     15\u001b[0m \u001b[38;5;66;03m# Plot\u001b[39;00m\n\u001b[1;32m     16\u001b[0m hist_obj\u001b[38;5;241m.\u001b[39mplot()\n",
      "File \u001b[0;32m/usr/local/lib/python3.12/site-packages/dask/base.py:370\u001b[0m, in \u001b[0;36mDaskMethodsMixin.compute\u001b[0;34m(self, **kwargs)\u001b[0m\n\u001b[1;32m    346\u001b[0m \u001b[38;5;28;01mdef\u001b[39;00m\u001b[38;5;250m \u001b[39m\u001b[38;5;21mcompute\u001b[39m(\u001b[38;5;28mself\u001b[39m, \u001b[38;5;241m*\u001b[39m\u001b[38;5;241m*\u001b[39mkwargs):\n\u001b[1;32m    347\u001b[0m \u001b[38;5;250m    \u001b[39m\u001b[38;5;124;03m\"\"\"Compute this dask collection\u001b[39;00m\n\u001b[1;32m    348\u001b[0m \n\u001b[1;32m    349\u001b[0m \u001b[38;5;124;03m    This turns a lazy Dask collection into its in-memory equivalent.\u001b[39;00m\n\u001b[0;32m   (...)\u001b[0m\n\u001b[1;32m    368\u001b[0m \u001b[38;5;124;03m    dask.compute\u001b[39;00m\n\u001b[1;32m    369\u001b[0m \u001b[38;5;124;03m    \"\"\"\u001b[39;00m\n\u001b[0;32m--> 370\u001b[0m     (result,) \u001b[38;5;241m=\u001b[39m \u001b[43mcompute\u001b[49m\u001b[43m(\u001b[49m\u001b[38;5;28;43mself\u001b[39;49m\u001b[43m,\u001b[49m\u001b[43m \u001b[49m\u001b[43mtraverse\u001b[49m\u001b[38;5;241;43m=\u001b[39;49m\u001b[38;5;28;43;01mFalse\u001b[39;49;00m\u001b[43m,\u001b[49m\u001b[43m \u001b[49m\u001b[38;5;241;43m*\u001b[39;49m\u001b[38;5;241;43m*\u001b[39;49m\u001b[43mkwargs\u001b[49m\u001b[43m)\u001b[49m\n\u001b[1;32m    371\u001b[0m     \u001b[38;5;28;01mreturn\u001b[39;00m result\n",
      "File \u001b[0;32m/usr/local/lib/python3.12/site-packages/dask/base.py:656\u001b[0m, in \u001b[0;36mcompute\u001b[0;34m(traverse, optimize_graph, scheduler, get, *args, **kwargs)\u001b[0m\n\u001b[1;32m    653\u001b[0m     postcomputes\u001b[38;5;241m.\u001b[39mappend(x\u001b[38;5;241m.\u001b[39m__dask_postcompute__())\n\u001b[1;32m    655\u001b[0m \u001b[38;5;28;01mwith\u001b[39;00m shorten_traceback():\n\u001b[0;32m--> 656\u001b[0m     results \u001b[38;5;241m=\u001b[39m \u001b[43mschedule\u001b[49m\u001b[43m(\u001b[49m\u001b[43mdsk\u001b[49m\u001b[43m,\u001b[49m\u001b[43m \u001b[49m\u001b[43mkeys\u001b[49m\u001b[43m,\u001b[49m\u001b[43m \u001b[49m\u001b[38;5;241;43m*\u001b[39;49m\u001b[38;5;241;43m*\u001b[39;49m\u001b[43mkwargs\u001b[49m\u001b[43m)\u001b[49m\n\u001b[1;32m    658\u001b[0m \u001b[38;5;28;01mreturn\u001b[39;00m repack([f(r, \u001b[38;5;241m*\u001b[39ma) \u001b[38;5;28;01mfor\u001b[39;00m r, (f, a) \u001b[38;5;129;01min\u001b[39;00m \u001b[38;5;28mzip\u001b[39m(results, postcomputes)])\n",
      "Cell \u001b[0;32mIn[29], line 7\u001b[0m, in \u001b[0;36mread_root_file\u001b[0;34m(file_path, tree_name, branches)\u001b[0m\n\u001b[1;32m      5\u001b[0m \u001b[38;5;28;01mwith\u001b[39;00m uproot\u001b[38;5;241m.\u001b[39mopen(file_path) \u001b[38;5;28;01mas\u001b[39;00m f:\n\u001b[1;32m      6\u001b[0m     tree \u001b[38;5;241m=\u001b[39m f[tree_name]\n\u001b[0;32m----> 7\u001b[0m     data \u001b[38;5;241m=\u001b[39m \u001b[43mtree\u001b[49m\u001b[38;5;241;43m.\u001b[39;49m\u001b[43marrays\u001b[49m\u001b[43m(\u001b[49m\u001b[43mbranches\u001b[49m\u001b[38;5;241;43m=\u001b[39;49m\u001b[43mbranches\u001b[49m\u001b[43m,\u001b[49m\u001b[43m \u001b[49m\u001b[43mlibrary\u001b[49m\u001b[38;5;241;43m=\u001b[39;49m\u001b[38;5;124;43m\"\u001b[39;49m\u001b[38;5;124;43mak\u001b[39;49m\u001b[38;5;124;43m\"\u001b[39;49m\u001b[43m)\u001b[49m\n\u001b[1;32m      8\u001b[0m     \u001b[38;5;66;03m# Flatten jagged arrays if needed\u001b[39;00m\n\u001b[1;32m      9\u001b[0m     \u001b[38;5;28;01mreturn\u001b[39;00m ak\u001b[38;5;241m.\u001b[39mflatten(data[branches[\u001b[38;5;241m0\u001b[39m]])\n",
      "\u001b[0;31mTypeError\u001b[0m: HasBranches.arrays() got an unexpected keyword argument 'branches'"
     ]
    }
   ],
   "source": [
    "\n",
    "# ------------------------------\n",
    "# Example usage\n",
    "# ------------------------------\n",
    "if __name__ == \"__main__\":\n",
    "    txt_file = \"Higgs_combined.txt\"\n",
    "    branch = \"Electron_eta\"\n",
    "    \n",
    "    # Load Electron_eta as a Dask array\n",
    "    electron_eta_da = root_files_to_dask_array(txt_file, branch=branch)\n",
    "    \n",
    "    # Compute histogram using hist\n",
    "    hist_obj = Hist.new.Reg(50, -5, 5, name=\"Electron_eta\", label=\"Electron eta\").Double()\n",
    "    hist_obj.fill(electron_eta_da.compute())\n",
    "    \n",
    "    # Plot\n",
    "    hist_obj.plot()\n",
    "    plt.title(\"Histogram of Electron_eta from ROOT files\")\n",
    "    plt.show()"
   ]
  },
  {
   "cell_type": "raw",
   "id": "d66430a9-3e31-4f36-bd6e-740f8ce6f525",
   "metadata": {},
   "source": []
  }
 ],
 "metadata": {
  "kernelspec": {
   "display_name": "Python 3 (ipykernel)",
   "language": "python",
   "name": "python3"
  },
  "language_info": {
   "codemirror_mode": {
    "name": "ipython",
    "version": 3
   },
   "file_extension": ".py",
   "mimetype": "text/x-python",
   "name": "python",
   "nbconvert_exporter": "python",
   "pygments_lexer": "ipython3",
   "version": "3.12.10"
  }
 },
 "nbformat": 4,
 "nbformat_minor": 5
}
