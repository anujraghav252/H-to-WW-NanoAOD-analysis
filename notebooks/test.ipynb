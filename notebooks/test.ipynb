{
 "cells": [
  {
   "cell_type": "code",
   "execution_count": 1,
   "id": "157e7c30",
   "metadata": {},
   "outputs": [
    {
     "name": "stdout",
     "output_type": "stream",
     "text": [
      "Higgs\n"
     ]
    }
   ],
   "source": [
    "print(\"Higgs\")"
   ]
  },
  {
   "cell_type": "code",
   "execution_count": 2,
   "id": "ca70226e",
   "metadata": {},
   "outputs": [],
   "source": [
    "import uproot\n",
    "import numpy as np\n",
    "import matplotlib.pyplot as plt\n",
    "from hist import Hist\n",
    "import mplhep as hep\n",
    "import awkward as ak\n",
    "\n",
    "import vector\n",
    "vector.register_awkward()\n",
    "\n",
    "import os\n"
   ]
  },
  {
   "cell_type": "code",
   "execution_count": null,
   "id": "edc8de06",
   "metadata": {},
   "outputs": [
    {
     "name": "stdout",
     "output_type": "stream",
     "text": [
      "Diboson.root\n",
      "Drell-Yann.root\n",
      "Higgs.root\n",
      "Single_top.root\n",
      "TTBar.root\n",
      "Wjets.root\n"
     ]
    },
    {
     "name": "stderr",
     "output_type": "stream",
     "text": [
      "<>:2: SyntaxWarning: invalid escape sequence '\\M'\n",
      "<>:5: SyntaxWarning: invalid escape sequence '\\M'\n",
      "<>:2: SyntaxWarning: invalid escape sequence '\\M'\n",
      "<>:5: SyntaxWarning: invalid escape sequence '\\M'\n",
      "C:\\Users\\Anuj\\AppData\\Local\\Temp\\ipykernel_11052\\744896305.py:2: SyntaxWarning: invalid escape sequence '\\M'\n",
      "  os.chdir(\"C:\\MAIN\\HSF-India\\MC_samples_final\")\n",
      "C:\\Users\\Anuj\\AppData\\Local\\Temp\\ipykernel_11052\\744896305.py:5: SyntaxWarning: invalid escape sequence '\\M'\n",
      "  for file in os.listdir(\"C:\\MAIN\\HSF-India\\MC_samples_final\"):\n"
     ]
    }
   ],
   "source": [
    "os.getcwd()  # Check current working directory\n",
    "os.chdir(\"C:\\MAIN\\HSF-India\\MC_samples_final\")  \n",
    "os.getcwd()# Change to the directory where your data files are located\n",
    "\n",
    "for file in os.listdir(\"C:\\MAIN\\HSF-India\\MC_samples_final\"):\n",
    "    if file.endswith(\".root\"):\n",
    "     print(file)  # List files in the specified directory\n"
   ]
  },
  {
   "cell_type": "code",
   "execution_count": 17,
   "id": "3a21afdd",
   "metadata": {},
   "outputs": [],
   "source": [
    "f = uproot.open(\"Drell-Yann.root\") "
   ]
  },
  {
   "cell_type": "code",
   "execution_count": 18,
   "id": "e3f4716a",
   "metadata": {},
   "outputs": [
    {
     "name": "stdout",
     "output_type": "stream",
     "text": [
      "Available trees in the root files: \n"
     ]
    }
   ],
   "source": [
    "print(\"Available trees in the root files: \")\n",
    "for key in f.keys():\n",
    "    print(f'{key}')"
   ]
  },
  {
   "cell_type": "code",
   "execution_count": 14,
   "id": "b2607a5b",
   "metadata": {},
   "outputs": [
    {
     "name": "stdout",
     "output_type": "stream",
     "text": [
      "Available branches in the Events tree: \n",
      "\n",
      "\n",
      " - nElectron\n",
      " - Electron_dEscaleDown\n",
      " - Electron_dEscaleUp\n",
      " - Electron_dEsigmaDown\n",
      " - Electron_dEsigmaUp\n",
      " - Electron_deltaEtaSC\n",
      " - Electron_dr03EcalRecHitSumEt\n",
      " - Electron_dr03HcalDepth1TowerSumEt\n",
      " - Electron_dr03TkSumPt\n",
      " - Electron_dr03TkSumPtHEEP\n",
      " - Electron_dxy\n",
      " - Electron_dxyErr\n",
      " - Electron_dz\n",
      " - Electron_dzErr\n",
      " - Electron_eCorr\n",
      " - Electron_eInvMinusPInv\n",
      " - Electron_energyErr\n",
      " - Electron_eta\n",
      " - Electron_hoe\n",
      " - Electron_ip3d\n",
      " - Electron_jetPtRelv2\n",
      " - Electron_jetRelIso\n",
      " - Electron_mass\n",
      " - Electron_miniPFRelIso_all\n",
      " - Electron_miniPFRelIso_chg\n",
      " - Electron_mvaFall17V2Iso\n",
      " - Electron_mvaFall17V2noIso\n",
      " - Electron_pfRelIso03_all\n",
      " - Electron_pfRelIso03_chg\n",
      " - Electron_phi\n",
      " - Electron_pt\n",
      " - Electron_r9\n",
      " - Electron_scEtOverPt\n",
      " - Electron_sieie\n",
      " - Electron_sip3d\n",
      " - Electron_mvaTTH\n",
      " - Electron_charge\n",
      " - Electron_cutBased\n",
      " - Electron_jetIdx\n",
      " - Electron_pdgId\n",
      " - Electron_photonIdx\n",
      " - Electron_tightCharge\n",
      " - Electron_vidNestedWPBitmap\n",
      " - Electron_vidNestedWPBitmapHEEP\n",
      " - Electron_convVeto\n",
      " - Electron_cutBased_HEEP\n",
      " - Electron_isPFcand\n",
      " - Electron_jetNDauCharged\n",
      " - Electron_lostHits\n",
      " - Electron_mvaFall17V2Iso_WP80\n",
      " - Electron_mvaFall17V2Iso_WP90\n",
      " - Electron_mvaFall17V2Iso_WPL\n",
      " - Electron_mvaFall17V2noIso_WP80\n",
      " - Electron_mvaFall17V2noIso_WP90\n",
      " - Electron_mvaFall17V2noIso_WPL\n",
      " - Electron_seedGain\n",
      " - Jet_nElectrons\n",
      " - Electron_cleanmask\n",
      " - Jet_nMuons\n",
      " - nMuon\n",
      " - Muon_dxy\n",
      " - Muon_dxyErr\n",
      " - Muon_dxybs\n",
      " - Muon_dz\n",
      " - Muon_dzErr\n",
      " - Muon_eta\n",
      " - Muon_ip3d\n",
      " - Muon_jetPtRelv2\n",
      " - Muon_jetRelIso\n",
      " - Muon_mass\n",
      " - Muon_miniPFRelIso_all\n",
      " - Muon_miniPFRelIso_chg\n",
      " - Muon_pfRelIso03_all\n",
      " - Muon_pfRelIso03_chg\n",
      " - Muon_pfRelIso04_all\n",
      " - Muon_phi\n",
      " - Muon_pt\n",
      " - Muon_ptErr\n",
      " - Muon_segmentComp\n",
      " - Muon_sip3d\n",
      " - Muon_softMva\n",
      " - Muon_tkRelIso\n",
      " - Muon_tunepRelPt\n",
      " - Muon_mvaLowPt\n",
      " - Muon_mvaTTH\n",
      " - Muon_charge\n",
      " - Muon_jetIdx\n",
      " - Muon_nStations\n",
      " - Muon_nTrackerLayers\n",
      " - Muon_pdgId\n",
      " - Muon_tightCharge\n",
      " - Muon_fsrPhotonIdx\n",
      " - Muon_highPtId\n",
      " - Muon_highPurity\n",
      " - Muon_inTimeMuon\n",
      " - Muon_isGlobal\n",
      " - Muon_isPFcand\n",
      " - Muon_isStandalone\n",
      " - Muon_isTracker\n",
      " - Muon_jetNDauCharged\n",
      " - Muon_looseId\n",
      " - Muon_mediumId\n",
      " - Muon_mediumPromptId\n",
      " - Muon_miniIsoId\n",
      " - Muon_multiIsoId\n",
      " - Muon_mvaId\n",
      " - Muon_mvaLowPtId\n",
      " - Muon_pfIsoId\n",
      " - Muon_puppiIsoId\n",
      " - Muon_softId\n",
      " - Muon_softMvaId\n",
      " - Muon_tightId\n",
      " - Muon_tkIsoId\n",
      " - Muon_triggerIdLoose\n",
      " - Muon_genPartIdx\n",
      " - Muon_genPartFlav\n",
      " - Muon_cleanmask\n",
      "Electron-related branches: 58\n",
      "Muon related branches: 59\n"
     ]
    }
   ],
   "source": [
    "tree = f['Events']\n",
    "print(\"Available branches in the Events tree: \\n\\n\")\n",
    "\n",
    "electron_branches = [branch for branch in tree.keys() if \"Electron\" in branch]\n",
    "muon_branches = [branch for branch in tree.keys() if \"Muon\" in branch]\n",
    "\n",
    "for branch in electron_branches:    \n",
    "    print(f' - {branch}')\n",
    "\n",
    "for branch in muon_branches:    \n",
    "    print(f' - {branch}')\n",
    "\n",
    "print(f\"Electron-related branches: {len(electron_branches)}\")\n",
    "# for b in electron_branches:\n",
    "#     print(f' - {b}')\n",
    "\n",
    "print(f\"Muon related branches: {len(muon_branches)}\")\n",
    "# for b in muon_branches:\n",
    "#     print(f' - {b}')\n",
    "\n",
    "\n",
    "electron_mva = [branch for branch in tree.keys() if \"mvaFall\" in branch]\n",
    "\n",
    "# for i in electron_mva:\n",
    "#     print(f\"{i}\")"
   ]
  },
  {
   "cell_type": "code",
   "execution_count": 15,
   "id": "f2b94c30",
   "metadata": {
    "vscode": {
     "languageId": "javascript"
    }
   },
   "outputs": [],
   "source": [
    "\n",
    "arrays = tree.arrays([\n",
    "                \"Electron_pt\", \"Electron_eta\", \"Electron_phi\", \"Electron_mass\", \n",
    "                \"Electron_mvaFall17V2Iso_WP90\",\"Electron_charge\",\n",
    "                \"Muon_pt\", \"Muon_eta\", \"Muon_phi\", \"Muon_mass\", \"Muon_tightId\", \"Muon_charge\", \"Muon_pfIsoId\",\n",
    "                \"MET_pt\", \"MET_phi\"\n",
    "            ], library=\"ak\")\n",
    "\n",
    "Electron = ak.zip({\n",
    "                \"pt\": arrays.Electron_pt,\n",
    "                \"eta\": arrays.Electron_eta,\n",
    "                \"phi\": arrays.Electron_phi,\n",
    "                \"mass\": arrays.Electron_mass,\n",
    "                \"charge\": arrays.Electron_charge,\n",
    "                \"mvaFall17V2Iso_WP90\": arrays.Electron_mvaFall17V2Iso_WP90\n",
    "                })\n",
    "\n",
    "Muon = ak.zip({\n",
    "                \"pt\": arrays.Muon_pt,\n",
    "                \"eta\": arrays.Muon_eta,\n",
    "                \"phi\": arrays.Muon_phi,\n",
    "                \"mass\": arrays.Muon_mass,\n",
    "                \"charge\": arrays.Muon_charge,\n",
    "                \"tightId\": arrays.Muon_tightId,\n",
    "                \"Muon_pfIsoId\": arrays.Muon_pfIsoId\n",
    "            })"
   ]
  },
  {
   "cell_type": "code",
   "execution_count": 16,
   "id": "bc2dc774",
   "metadata": {
    "vscode": {
     "languageId": "javascript"
    }
   },
   "outputs": [
    {
     "name": "stdout",
     "output_type": "stream",
     "text": [
      "Number of events before selection: 2838995\n",
      "Events with tight electrons: 1203018\n"
     ]
    }
   ],
   "source": [
    "tight_electron = arrays.Electron_mvaFall17V2Iso_WP90 == 1\n",
    "tight_muon = (arrays.Muon_tightId == 1) & (arrays.Muon_pfIsoId >= 0.15)\n",
    "\n",
    "\n",
    "print(f\"Number of events before selection: {len(arrays)}\")\n",
    "\n",
    "print(f\"Events with tight electrons: {ak.sum(ak.any(tight_electron, axis=1))}\")"
   ]
  }
 ],
 "metadata": {
  "kernelspec": {
   "display_name": "HEP_env",
   "language": "python",
   "name": "python3"
  },
  "language_info": {
   "codemirror_mode": {
    "name": "ipython",
    "version": 3
   },
   "file_extension": ".py",
   "mimetype": "text/x-python",
   "name": "python",
   "nbconvert_exporter": "python",
   "pygments_lexer": "ipython3",
   "version": "3.12.3"
  }
 },
 "nbformat": 4,
 "nbformat_minor": 5
}
