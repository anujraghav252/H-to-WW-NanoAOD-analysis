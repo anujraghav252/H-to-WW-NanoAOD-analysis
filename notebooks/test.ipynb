{
 "cells": [
  {
   "cell_type": "code",
   "execution_count": 1,
   "id": "157e7c30",
   "metadata": {},
   "outputs": [
    {
     "name": "stdout",
     "output_type": "stream",
     "text": [
      "Higgs\n"
     ]
    }
   ],
   "source": [
    "print(\"Higgs\")"
   ]
  },
  {
   "cell_type": "code",
   "execution_count": 2,
   "id": "ca70226e",
   "metadata": {},
   "outputs": [],
   "source": [
    "import uproot\n",
    "import numpy as np\n",
    "import matplotlib.pyplot as plt\n",
    "from hist import Hist\n",
    "import mplhep as hep\n",
    "import awkward as ak\n",
    "\n",
    "import vector\n",
    "vector.register_awkward()\n",
    "\n",
    "import os\n"
   ]
  },
  {
   "cell_type": "code",
   "execution_count": 3,
   "id": "edc8de06",
   "metadata": {},
   "outputs": [
    {
     "name": "stdout",
     "output_type": "stream",
     "text": [
      "Diboson.root\n",
      "DY.root\n",
      "Higgs.root\n",
      "Single_top.root\n",
      "TTBar.root\n",
      "Wjets.root\n"
     ]
    },
    {
     "name": "stderr",
     "output_type": "stream",
     "text": [
      "<>:2: SyntaxWarning: invalid escape sequence '\\M'\n",
      "<>:5: SyntaxWarning: invalid escape sequence '\\M'\n",
      "<>:2: SyntaxWarning: invalid escape sequence '\\M'\n",
      "<>:5: SyntaxWarning: invalid escape sequence '\\M'\n",
      "C:\\Users\\Anuj\\AppData\\Local\\Temp\\ipykernel_18544\\347817471.py:2: SyntaxWarning: invalid escape sequence '\\M'\n",
      "  os.chdir(\"C:\\MAIN\\HSF-India\\MC_samples_final\")\n",
      "C:\\Users\\Anuj\\AppData\\Local\\Temp\\ipykernel_18544\\347817471.py:5: SyntaxWarning: invalid escape sequence '\\M'\n",
      "  for file in os.listdir(\"C:\\MAIN\\HSF-India\\MC_samples_final\"):\n"
     ]
    }
   ],
   "source": [
    "os.getcwd()  # Check current working directory\n",
    "os.chdir(\"C:\\MAIN\\HSF-India\\MC_samples_final\")  \n",
    "os.getcwd()# Change to the directory where your data files are located\n",
    "\n",
    "for file in os.listdir(\"C:\\MAIN\\HSF-India\\MC_samples_final\"):\n",
    "    if file.endswith(\".root\"):\n",
    "     print(file)  # List files in the specified directory\n"
   ]
  },
  {
   "cell_type": "code",
   "execution_count": 4,
   "id": "3a21afdd",
   "metadata": {},
   "outputs": [],
   "source": [
    "f = uproot.open(\"Higgs.root\") "
   ]
  },
  {
   "cell_type": "code",
   "execution_count": 5,
   "id": "e3f4716a",
   "metadata": {},
   "outputs": [
    {
     "name": "stdout",
     "output_type": "stream",
     "text": [
      "Available trees in the root files: \n",
      "Events;1\n"
     ]
    }
   ],
   "source": [
    "print(\"Available trees in the root files: \")\n",
    "for key in f.keys():\n",
    "    print(f'{key}')"
   ]
  },
  {
   "cell_type": "code",
   "execution_count": 6,
   "id": "b2607a5b",
   "metadata": {},
   "outputs": [
    {
     "name": "stdout",
     "output_type": "stream",
     "text": [
      "Available branches in the Events tree: \n",
      "\n",
      "\n",
      " - nCorrT1METJet\n",
      " - CorrT1METJet_area\n",
      " - CorrT1METJet_eta\n",
      " - CorrT1METJet_muonSubtrFactor\n",
      " - CorrT1METJet_phi\n",
      " - CorrT1METJet_rawPt\n",
      " - nJet\n",
      " - Jet_area\n",
      " - Jet_btagCSVV2\n",
      " - Jet_btagDeepB\n",
      " - Jet_btagDeepCvB\n",
      " - Jet_btagDeepCvL\n",
      " - Jet_btagDeepFlavB\n",
      " - Jet_btagDeepFlavCvB\n",
      " - Jet_btagDeepFlavCvL\n",
      " - Jet_btagDeepFlavQG\n",
      " - Jet_chEmEF\n",
      " - Jet_chFPV0EF\n",
      " - Jet_chHEF\n",
      " - Jet_eta\n",
      " - Jet_hfsigmaEtaEta\n",
      " - Jet_hfsigmaPhiPhi\n",
      " - Jet_mass\n",
      " - Jet_muEF\n",
      " - Jet_muonSubtrFactor\n",
      " - Jet_neEmEF\n",
      " - Jet_neHEF\n",
      " - Jet_phi\n",
      " - Jet_pt\n",
      " - Jet_puIdDisc\n",
      " - Jet_qgl\n",
      " - Jet_rawFactor\n",
      " - Jet_bRegCorr\n",
      " - Jet_bRegRes\n",
      " - Jet_cRegCorr\n",
      " - Jet_cRegRes\n",
      " - Jet_electronIdx1\n",
      " - Jet_electronIdx2\n",
      " - Jet_hfadjacentEtaStripsSize\n",
      " - Jet_hfcentralEtaStripSize\n",
      " - Jet_jetId\n",
      " - Jet_muonIdx1\n",
      " - Jet_muonIdx2\n",
      " - Jet_nElectrons\n",
      " - Jet_nMuons\n",
      " - Jet_puId\n",
      " - Jet_nConstituents\n",
      " - Jet_genJetIdx\n",
      " - Jet_cleanmask\n",
      "jet-related branches: 49\n"
     ]
    }
   ],
   "source": [
    "tree = f['Events']\n",
    "print(\"Available branches in the Events tree: \\n\\n\")\n",
    "\n",
    "electron_branches = [branch for branch in tree.keys() if \"Electron\" in branch]\n",
    "muon_branches = [branch for branch in tree.keys() if \"Muon\" in branch]\n",
    "jet_branches = [branch for branch in tree.keys() if \"Jet\" in branch]\n",
    "\n",
    "# for branch in electron_branches:    \n",
    "#     print(f' - {branch}')\n",
    "\n",
    "# for branch in muon_branches:    \n",
    "#     print(f' - {branch}')\n",
    "\n",
    "# print(f\"Electron-related branches: {len(electron_branches)}\")\n",
    "# # for b in electron_branches:\n",
    "# #     print(f' - {b}')\n",
    "\n",
    "# print(f\"Muon related branches: {len(muon_branches)}\")\n",
    "# # for b in muon_branches:\n",
    "# #     print(f' - {b}')\n",
    "\n",
    "\n",
    "# electron_mva = [branch for branch in tree.keys() if \"mvaFall\" in branch]\n",
    "\n",
    "for branch in jet_branches:    \n",
    "    print(f' - {branch}')\n",
    "\n",
    "print(f\"jet-related branches: {len(jet_branches)}\")\n",
    "# for b in electron_branches:\n",
    "#     print(f' - {b}')\n",
    "\n",
    "# for i in electron_mva:\n",
    "#     print(f\"{i}\")"
   ]
  },
  {
   "cell_type": "code",
   "execution_count": 15,
   "id": "f2b94c30",
   "metadata": {
    "vscode": {
     "languageId": "javascript"
    }
   },
   "outputs": [],
   "source": [
    "\n",
    "arrays = tree.arrays([\n",
    "                \"Electron_pt\", \"Electron_eta\", \"Electron_phi\", \"Electron_mass\", \n",
    "                \"Electron_mvaFall17V2Iso_WP90\",\"Electron_charge\",\n",
    "                \"Muon_pt\", \"Muon_eta\", \"Muon_phi\", \"Muon_mass\", \"Muon_tightId\", \"Muon_charge\", \"Muon_pfIsoId\",\n",
    "                \"MET_pt\", \"MET_phi\"\n",
    "            ], library=\"ak\")\n",
    "\n",
    "Electron = ak.zip({\n",
    "                \"pt\": arrays.Electron_pt,\n",
    "                \"eta\": arrays.Electron_eta,\n",
    "                \"phi\": arrays.Electron_phi,\n",
    "                \"mass\": arrays.Electron_mass,\n",
    "                \"charge\": arrays.Electron_charge,\n",
    "                \"mvaFall17V2Iso_WP90\": arrays.Electron_mvaFall17V2Iso_WP90\n",
    "                })\n",
    "\n",
    "Muon = ak.zip({\n",
    "                \"pt\": arrays.Muon_pt,\n",
    "                \"eta\": arrays.Muon_eta,\n",
    "                \"phi\": arrays.Muon_phi,\n",
    "                \"mass\": arrays.Muon_mass,\n",
    "                \"charge\": arrays.Muon_charge,\n",
    "                \"tightId\": arrays.Muon_tightId,\n",
    "                \"Muon_pfIsoId\": arrays.Muon_pfIsoId\n",
    "            })"
   ]
  },
  {
   "cell_type": "code",
   "execution_count": 16,
   "id": "bc2dc774",
   "metadata": {
    "vscode": {
     "languageId": "javascript"
    }
   },
   "outputs": [
    {
     "name": "stdout",
     "output_type": "stream",
     "text": [
      "Number of events before selection: 2838995\n",
      "Events with tight electrons: 1203018\n"
     ]
    }
   ],
   "source": [
    "tight_electron = arrays.Electron_mvaFall17V2Iso_WP90 == 1\n",
    "tight_muon = (arrays.Muon_tightId == 1) & (arrays.Muon_pfIsoId >= 0.15)\n",
    "\n",
    "\n",
    "print(f\"Number of events before selection: {len(arrays)}\")\n",
    "\n",
    "print(f\"Events with tight electrons: {ak.sum(ak.any(tight_electron, axis=1))}\")"
   ]
  }
 ],
 "metadata": {
  "kernelspec": {
   "display_name": "HEP_env",
   "language": "python",
   "name": "python3"
  },
  "language_info": {
   "codemirror_mode": {
    "name": "ipython",
    "version": 3
   },
   "file_extension": ".py",
   "mimetype": "text/x-python",
   "name": "python",
   "nbconvert_exporter": "python",
   "pygments_lexer": "ipython3",
   "version": "3.12.3"
  }
 },
 "nbformat": 4,
 "nbformat_minor": 5
}
