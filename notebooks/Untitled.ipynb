{
 "cells": [
  {
   "cell_type": "code",
   "execution_count": 2,
   "id": "ef7b0fa2-73ef-4c83-aa98-f4d73a0134fd",
   "metadata": {},
   "outputs": [],
   "source": [
    "import os \n",
    "import uproot"
   ]
  },
  {
   "cell_type": "code",
   "execution_count": 3,
   "id": "72cdbcca-271b-4182-85ad-48efee412f2a",
   "metadata": {},
   "outputs": [
    {
     "name": "stdout",
     "output_type": "stream",
     "text": [
      "-xsec_weight.root\n",
      "-genWeight.root\n"
     ]
    }
   ],
   "source": [
    "BASE_DIR = \"/home/cms-jovyan/H-to-WW-NanoAOD-analysis/Datasets/MC_samples\"\n",
    "os.chdir(BASE_DIR)\n",
    "for files in os.listdir():\n",
    "    if files.endswith(\"root\"):\n",
    "        print(f\"-{files}\")\n"
   ]
  },
  {
   "cell_type": "code",
   "execution_count": 4,
   "id": "cdcb600c-da3f-42f5-94d9-c2d3ec3d2075",
   "metadata": {},
   "outputs": [
    {
     "name": "stdout",
     "output_type": "stream",
     "text": [
      "-VG;1\n",
      "-Higgs;1\n",
      "-WW;1\n",
      "-Fakes;1\n",
      "-VZ;1\n",
      "-DYtoLL;1\n",
      "-ggWW;1\n",
      "-Top;1\n"
     ]
    }
   ],
   "source": [
    "with uproot.open(\"xsec_weight.root\") as f:\n",
    "    for keys in f.keys():\n",
    "        print(f\"-{keys}\")\n",
    "   "
   ]
  },
  {
   "cell_type": "code",
   "execution_count": 5,
   "id": "5bc37df7-25fc-4859-94f9-4a32c38570f1",
   "metadata": {},
   "outputs": [
    {
     "data": {
      "text/html": [
       "<pre>[0.0234,\n",
       " 0.0234,\n",
       " 0.0234,\n",
       " 0.0234,\n",
       " 0.0234,\n",
       " 0.0234,\n",
       " 0.0234,\n",
       " 0.0234,\n",
       " -0.0234,\n",
       " 0.0234,\n",
       " ...,\n",
       " 0.000149,\n",
       " 0.000149,\n",
       " 0.000149,\n",
       " 0.000149,\n",
       " 0.000149,\n",
       " 0.000149,\n",
       " 0.000149,\n",
       " 0.000149,\n",
       " 0.000149]\n",
       "----------\n",
       "backend: cpu\n",
       "nbytes: 139.7 MB\n",
       "type: 34915878 * float32</pre>"
      ],
      "text/plain": [
       "<Array [0.0234, 0.0234, ..., 0.000149, 0.000149] type='34915878 * float32'>"
      ]
     },
     "execution_count": 5,
     "metadata": {},
     "output_type": "execute_result"
    }
   ],
   "source": [
    "vg = f['VG']\n",
    "vg_gw = vg[\"VG_genWeight\"].array()\n",
    "vg_gw"
   ]
  },
  {
   "cell_type": "code",
   "execution_count": 6,
   "id": "22bf24c9-f73a-4d08-a21c-5dd555035967",
   "metadata": {},
   "outputs": [
    {
     "data": {
      "text/html": [
       "<pre>[0.00193,\n",
       " 0.00193,\n",
       " 0.00193,\n",
       " 0.00193,\n",
       " 0.00193,\n",
       " 0.00193,\n",
       " 0.00193,\n",
       " 0.00193,\n",
       " 0.00193,\n",
       " 0.00193,\n",
       " ...,\n",
       " 0.769,\n",
       " 0.769,\n",
       " 0.769,\n",
       " 0.769,\n",
       " 0.769,\n",
       " 0.769,\n",
       " 0.769,\n",
       " 0.769,\n",
       " 0.769]\n",
       "---------\n",
       "backend: cpu\n",
       "nbytes: 902.7 MB\n",
       "type: 225680227 * float32</pre>"
      ],
      "text/plain": [
       "<Array [0.00193, 0.00193, ..., 0.769, 0.769] type='225680227 * float32'>"
      ]
     },
     "execution_count": 6,
     "metadata": {},
     "output_type": "execute_result"
    }
   ],
   "source": [
    "Fakes_gw = f['Fakes']['Fakes_genWeight'].array()\n",
    "Fakes_gw"
   ]
  },
  {
   "cell_type": "code",
   "execution_count": 7,
   "id": "30ad5658-b3bd-47cf-ab4d-4cec2529f4bc",
   "metadata": {},
   "outputs": [
    {
     "data": {
      "text/plain": [
       "np.float32(4.5181394e-05)"
      ]
     },
     "execution_count": 7,
     "metadata": {},
     "output_type": "execute_result"
    }
   ],
   "source": [
    "vg_gw[1]*Fakes_gw[1]"
   ]
  },
  {
   "cell_type": "code",
   "execution_count": 8,
   "id": "175ead39-066a-4e34-89ca-bf33b883a4bd",
   "metadata": {},
   "outputs": [
    {
     "data": {
      "text/html": [
       "<pre>[21.5,\n",
       " 21.5,\n",
       " 21.5,\n",
       " 21.5,\n",
       " 21.5,\n",
       " 21.5,\n",
       " 21.5,\n",
       " 21.5,\n",
       " 21.5,\n",
       " 21.5,\n",
       " ...,\n",
       " 21.5,\n",
       " 21.5,\n",
       " 21.5,\n",
       " 21.5,\n",
       " 21.5,\n",
       " 21.5,\n",
       " 21.5,\n",
       " 21.5,\n",
       " 21.5]\n",
       "------\n",
       "backend: cpu\n",
       "nbytes: 40.0 kB\n",
       "type: 10000 * float32</pre>"
      ],
      "text/plain": [
       "<Array [21.5, 21.5, 21.5, 21.5, ..., 21.5, 21.5, 21.5] type='10000 * float32'>"
      ]
     },
     "execution_count": 8,
     "metadata": {},
     "output_type": "execute_result"
    }
   ],
   "source": [
    "url = \"root://eospublic.cern.ch//eos/opendata/cms/mc/RunIISummer20UL16NanoAODv9/Higgs0Mf05ph0ToWW_M-125_TuneCP5_13TeV-powheg-jhugen727-pythia8/NANOAODSIM/106X_mcRun2_asymptotic_v17-v2/40000/5FEEB37C-1AFB-904F-899D-E1F3B611D6BE.root\"\n",
    "\n",
    "with uproot.open(url) as f:\n",
    "    tree = f[\"Events\"]\n",
    "    gen_weights = tree[\"genWeight\"].array()\n",
    "\n",
    "gen_weights"
   ]
  },
  {
   "cell_type": "code",
   "execution_count": null,
   "id": "890e0095-90a8-49fa-88a2-0957d92ff8cb",
   "metadata": {},
   "outputs": [],
   "source": []
  }
 ],
 "metadata": {
  "kernelspec": {
   "display_name": "Python 3 (ipykernel)",
   "language": "python",
   "name": "python3"
  },
  "language_info": {
   "codemirror_mode": {
    "name": "ipython",
    "version": 3
   },
   "file_extension": ".py",
   "mimetype": "text/x-python",
   "name": "python",
   "nbconvert_exporter": "python",
   "pygments_lexer": "ipython3",
   "version": "3.10.17"
  }
 },
 "nbformat": 4,
 "nbformat_minor": 5
}
